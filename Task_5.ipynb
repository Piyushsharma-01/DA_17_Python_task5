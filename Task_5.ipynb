{
 "cells": [
  {
   "cell_type": "code",
   "execution_count": 1,
   "id": "244795c0",
   "metadata": {},
   "outputs": [
    {
     "name": "stdout",
     "output_type": "stream",
     "text": [
      "College Name: GH Raisoni University\n"
     ]
    }
   ],
   "source": [
    "class College:\n",
    "    def __init__(self, col_name):\n",
    "        self.college_name = col_name  \n",
    "        self.student_count = 0        \n",
    "        self.students = []            \n",
    "\n",
    "    def admit_student(self, name, dept, gender, mobile, cls, address, age):\n",
    "        self.student_count += 1\n",
    "        stud = {\n",
    "            \"name\": name,\n",
    "            \"dept\": dept,\n",
    "            \"gender\": gender,\n",
    "            \"mobile\": mobile,\n",
    "            \"class\": cls,\n",
    "            \"address\": address,\n",
    "            \"age\": age\n",
    "        }\n",
    "        self.students.append(stud)\n",
    "\n",
    "    def update_percent(self, percent, stIndex):\n",
    "        if 0 <= stIndex < len(self.students):\n",
    "            self.students[stIndex][\"percent\"] = percent\n",
    "        else:\n",
    "            print(f\"Error: Student at index {stIndex} not found.\")\n",
    "\n",
    "    def is_passed(self, student):\n",
    "        return student.get(\"percent\", 0) > 5\n",
    "\n",
    "    def filter_by_result(self):\n",
    "        passed = []\n",
    "        failed = []\n",
    "        for student in self.students: \n",
    "            if self.is_passed(student):\n",
    "                passed.append(student)\n",
    "            else:\n",
    "                failed.append(student)\n",
    "        return {\"passed\": passed, \"failed\": failed}\n",
    "\n",
    "    def filter_students(self, **criteria):\n",
    "        filtered = self.students  \n",
    "        for key, value in criteria.items():\n",
    "            filtered = [s for s in filtered if s.get(key) == value]\n",
    "        return filtered\n",
    "\n",
    "\n",
    "clg = College(\"GH Raisoni University\")\n",
    "print(\"College Name:\", clg.college_name)\n"
   ]
  },
  {
   "cell_type": "code",
   "execution_count": null,
   "id": "e6db2de0",
   "metadata": {},
   "outputs": [
    {
     "name": "stdout",
     "output_type": "stream",
     "text": [
      "College Name: GH Raisoni University\n",
      "\n",
      "--- Results by Pass/Fail ---\n",
      "Passed: [{'name': 'Piyush', 'dept': 'B.Tech', 'gender': 'Male', 'mobile': 213123, 'class': 'class_1', 'address': 'address_1', 'age': 23, 'percent': 9}, {'name': 'Arjun', 'dept': 'M.Tech', 'gender': 'Male', 'mobile': 12313123, 'class': 'class_2', 'address': 'adress_2', 'age': 33, 'percent': 8}, {'name': 'Tejas', 'dept': 'MCA', 'gender': 'Male', 'mobile': 313123, 'class': 'class_3', 'address': 'address_3', 'age': 21, 'percent': 7}, {'name': 'Romit', 'dept': 'MBA', 'gender': 'Male', 'mobile': 313123, 'class': 'class_4', 'address': 'address_4', 'age': 26, 'percent': 6}]\n",
      "Failed: [{'name': 'Jay', 'dept': 'BBA', 'gender': 'Male', 'mobile': 314523, 'class': 'class_5', 'address': 'address_5', 'age': 29, 'percent': 4}]\n",
      "\n",
      "--- Filter by Department (MCA) ---\n",
      "Department : [{'name': 'Tejas', 'dept': 'MCA', 'gender': 'Male', 'mobile': 313123, 'class': 'class_3', 'address': 'address_3', 'age': 21, 'percent': 7}]\n",
      "\n",
      "--- Filter by Class (class_1) and Gender (Male) ---\n",
      "Class class_1 and Male: []\n"
     ]
    }
   ],
   "source": [
    "\n",
    "clg = College(\"GH Raisoni University\")\n",
    "print(\"College Name:\", clg.college_name)\n",
    "\n",
    "clg.admit_student(\"Piyush\", \"B.Tech\", \"Male\", 213123, \"class_1\", \"address_1\", 23 )\n",
    "clg.admit_student(\"Arjun\", \"M.Tech\", \"Male\", 12313123, \"class_2\", \"adress_2\", 33)\n",
    "clg.admit_student(\"Tejas\", \"MCA\", \"Male\", 313123, \"class_3\", \"address_3\", 21)\n",
    "clg.admit_student(\"Romit\", \"MBA\", \"Male\", 313123, \"class_4\", \"address_4\", 26)\n",
    "clg.admit_student(\"Jay\", \"BBA\", \"Male\", 314523, \"class_5\", \"address_5\", 29)\n",
    "\n",
    "clg.update_percent(9, 0)\n",
    "clg.update_percent(8, 1)\n",
    "clg.update_percent(7, 2)\n",
    "clg.update_percent(6, 3)\n",
    "clg.update_percent(4, 4)\n",
    "\n",
    "# Passed and Failed students\n",
    "results = clg.filter_by_result()\n",
    "print(\"\\n--- Results by Pass/Fail ---\")\n",
    "print(\"Passed:\", results[\"passed\"])\n",
    "print(\"Failed:\", results[\"failed\"])\n",
    "\n",
    "# Filter students by department\n",
    "print(\"\\n--- Filter by Department (MCA) ---\")\n",
    "dept_students = clg.filter_students(dept=\"MCA\")\n",
    "print(\"Department :\", dept_students)\n",
    "\n",
    "# Filter by class and gender\n",
    "print(\"\\n--- Filter by Class (class_1) and Gender (Male) ---\")\n",
    "filtered = clg.filter_students(cls=\"class_1\", gender=\"Male\")\n",
    "print(\"Class class_1 and Male:\", filtered)\n",
    "\n"
   ]
  },
  {
   "cell_type": "code",
   "execution_count": null,
   "id": "e40a5907",
   "metadata": {},
   "outputs": [],
   "source": []
  }
 ],
 "metadata": {
  "kernelspec": {
   "display_name": "Python 3",
   "language": "python",
   "name": "python3"
  },
  "language_info": {
   "codemirror_mode": {
    "name": "ipython",
    "version": 3
   },
   "file_extension": ".py",
   "mimetype": "text/x-python",
   "name": "python",
   "nbconvert_exporter": "python",
   "pygments_lexer": "ipython3",
   "version": "3.9.12"
  }
 },
 "nbformat": 4,
 "nbformat_minor": 5
}
